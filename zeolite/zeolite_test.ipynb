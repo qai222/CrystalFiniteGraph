{
 "cells": [
  {
   "cell_type": "code",
   "execution_count": 1,
   "outputs": [],
   "source": [
    "# Load a random structure from PMG json.\n",
    "\n",
    "from crystalgraph import LQG\n",
    "from pymatgen.core.structure import Structure\n",
    "import networkx as nx\n",
    "from collections import Counter\n",
    "\n",
    "def get_zeolite_structure_and_lqg(index: int):\n",
    "    zeo = Structure.from_file(\"pmg_json/{:06d}.json\".format(index))\n",
    "    g = LQG.from_structure(zeo)\n",
    "    print(\">\", zeo.composition)\n",
    "    print(\">\", g.nxg)\n",
    "    print(\">\",\"# of cross boundary edges\", len([d for u, v, d in g.nxg.edges(data=True) if d['voltage'] != (0, 0, 0)]))\n",
    "    print(\">\", g.properties)\n",
    "    nnb_compositions = []\n",
    "    for n in g.nxg.nodes:\n",
    "        nbs = list(nx.neighbors(g.nxg, n))\n",
    "        center_element = g.symbols[n]\n",
    "        nb_elements = [g.symbols[nb] for nb in nbs]\n",
    "        comp = \" \".join(sorted(nb_elements + [center_element]))\n",
    "        nnb_compositions.append(comp)\n",
    "    print(\">\", Counter(nnb_compositions))\n",
    "    return zeo, g\n",
    "\n",
    "def draw_bu_contraction(lqg: LQG, output:str):\n",
    "    lqg_bu = lqg.bu_contraction()\n",
    "    lqg_bu.draw_graphviz(ipython=False, filename=f\"{output}.png\")\n",
    "\n",
    "def bc_embedding(zeo: Structure, lqg: LQG, output: str):\n",
    "    bce_structure = lqg.to_structure(zeo.lattice, barycentric=True, barycentric_dim=3)\n",
    "    bce_structure.to(f\"{output}.cif\", fmt=\"cif\")\n",
    "\n",
    "def inspect_zeolite(index: int):\n",
    "    zeo, lqg = get_zeolite_structure_and_lqg(index)\n",
    "    output = \"{:06d}\".format(index)\n",
    "    zeo.to(f\"{output}.cif\", fmt=\"cif\")\n",
    "    draw_bu_contraction(lqg, output)\n",
    "    bc_embedding(zeo, lqg, output+\"_bu\")\n",
    "    return zeo, lqg\n"
   ],
   "metadata": {
    "collapsed": false,
    "pycharm": {
     "name": "#%%\n"
    },
    "ExecuteTime": {
     "end_time": "2024-01-28T21:46:06.701358200Z",
     "start_time": "2024-01-28T21:46:02.194368500Z"
    }
   }
  },
  {
   "cell_type": "code",
   "execution_count": 2,
   "outputs": [
    {
     "name": "stderr",
     "output_type": "stream",
     "text": [
      "F:\\venv\\CrystalGraph\\lib\\site-packages\\pymatgen\\analysis\\local_env.py:4135: UserWarning: No oxidation states specified on sites! For better results, set the site oxidation states in the structure.\n",
      "  warnings.warn(\n",
      "F:\\venv\\CrystalGraph\\lib\\site-packages\\pymatgen\\analysis\\local_env.py:3928: UserWarning: CrystalNN: cannot locate an appropriate radius, covalent or atomic radii will be used, this can lead to non-optimal results.\n",
      "  warnings.warn(\n"
     ]
    },
    {
     "name": "stdout",
     "output_type": "stream",
     "text": [
      "> O96 Si48\n",
      "> MultiGraph with 144 nodes and 192 edges\n",
      "> # of cross boundary edges 32\n",
      "> {'lattice': Lattice\n",
      "    abc : 9.686 12.226 22.836\n",
      " angles : 90.0 90.0 90.0\n",
      " volume : 2704.2627780959997\n",
      "      A : 9.686 0.0 5.930964448270631e-16\n",
      "      B : 1.966090751494656e-15 12.226 7.486265883187771e-16\n",
      "      C : 0.0 0.0 22.836\n",
      "    pbc : True True True}\n",
      "> Counter({'O Si Si': 96, 'O O O O Si': 48})\n"
     ]
    }
   ],
   "source": [
    "zeo42, lqg42 = inspect_zeolite(42)"
   ],
   "metadata": {
    "collapsed": false,
    "ExecuteTime": {
     "end_time": "2024-01-28T21:46:16.278362100Z",
     "start_time": "2024-01-28T21:46:06.701358200Z"
    }
   }
  },
  {
   "cell_type": "code",
   "execution_count": 3,
   "outputs": [
    {
     "name": "stdout",
     "output_type": "stream",
     "text": [
      "> O96 Si48\n",
      "> MultiGraph with 144 nodes and 192 edges\n",
      "> # of cross boundary edges 28\n",
      "> {'lattice': Lattice\n",
      "    abc : 20.634 20.634 8.426\n",
      " angles : 90.0 90.0 120.00000000000001\n",
      " volume : 3106.8403642483854\n",
      "      A : 20.634 0.0 1.2634681026803243e-15\n",
      "      B : -10.316999999999998 17.86956818168811 1.2634681026803243e-15\n",
      "      C : 0.0 0.0 8.426\n",
      "    pbc : True True True}\n",
      "> Counter({'O Si Si': 96, 'O O O O Si': 48})\n"
     ]
    }
   ],
   "source": [
    "zeo43, lqg43 = inspect_zeolite(43)"
   ],
   "metadata": {
    "collapsed": false,
    "ExecuteTime": {
     "end_time": "2024-01-28T21:46:25.501406300Z",
     "start_time": "2024-01-28T21:46:16.278362100Z"
    }
   }
  },
  {
   "cell_type": "code",
   "execution_count": 4,
   "outputs": [
    {
     "data": {
      "text/plain": "False"
     },
     "execution_count": 4,
     "metadata": {},
     "output_type": "execute_result"
    }
   ],
   "source": [
    "lqg42 == lqg43"
   ],
   "metadata": {
    "collapsed": false,
    "ExecuteTime": {
     "end_time": "2024-01-28T21:48:01.873803Z",
     "start_time": "2024-01-28T21:46:25.559227700Z"
    }
   }
  },
  {
   "cell_type": "code",
   "execution_count": 5,
   "outputs": [
    {
     "data": {
      "text/plain": "False"
     },
     "execution_count": 5,
     "metadata": {},
     "output_type": "execute_result"
    }
   ],
   "source": [
    "lqg42.to_uqg() == lqg43.to_uqg()"
   ],
   "metadata": {
    "collapsed": false,
    "ExecuteTime": {
     "end_time": "2024-01-28T21:49:35.810068100Z",
     "start_time": "2024-01-28T21:48:01.874802500Z"
    }
   }
  }
 ],
 "metadata": {
  "kernelspec": {
   "name": "python3",
   "language": "python",
   "display_name": "Python 3 (ipykernel)"
  },
  "language_info": {
   "codemirror_mode": {
    "name": "ipython",
    "version": 2
   },
   "file_extension": ".py",
   "mimetype": "text/x-python",
   "name": "python",
   "nbconvert_exporter": "python",
   "pygments_lexer": "ipython2",
   "version": "2.7.6"
  }
 },
 "nbformat": 4,
 "nbformat_minor": 0
}
